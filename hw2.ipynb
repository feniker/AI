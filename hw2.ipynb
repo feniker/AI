{
 "cells": [
  {
   "cell_type": "code",
   "execution_count": 15,
   "metadata": {},
   "outputs": [
    {
     "data": {
      "text/plain": [
       "[5, 4, 3, 2, 1]"
      ]
     },
     "execution_count": 15,
     "metadata": {},
     "output_type": "execute_result"
    }
   ],
   "source": [
    "# сортировка в обратном порядке\n",
    "n = int(input(\"Введите n\"))\n",
    "ar = list(map(int, list(input(\"Введите массив\").split()))) \n",
    "while len(ar) != n:\n",
    "    ar = list(map(int, list(input(\"Введите массив\").split()))) \n",
    "sorted(ar, reverse=True)\n"
   ]
  },
  {
   "cell_type": "code",
   "execution_count": 16,
   "metadata": {},
   "outputs": [
    {
     "name": "stdout",
     "output_type": "stream",
     "text": [
      "scrfdsadf dd 23543 \n",
      "adfggFFF 22 1 fcF \n"
     ]
    }
   ],
   "source": [
    "# фильтр\n",
    "n = int(input(\"Введите n\"))\n",
    "for _ in range(n):\n",
    "    inputStr = input().replace(r\"%%\", \"\")\n",
    "    if not inputStr.startswith(\"####\"):\n",
    "        print(inputStr)"
   ]
  },
  {
   "cell_type": "code",
   "execution_count": 18,
   "metadata": {},
   "outputs": [
    {
     "name": "stdout",
     "output_type": "stream",
     "text": [
      "1466\n"
     ]
    }
   ],
   "source": [
    "# от до\n",
    "n = int(input(\"Введите n\"))\n",
    "inputList = []\n",
    "for _ in range(n):\n",
    "    inputList.append(int(input()))\n",
    "p, q = int(input()), int(input())\n",
    "print(sum(inputList[p-1:q]))"
   ]
  },
  {
   "cell_type": "code",
   "execution_count": 33,
   "metadata": {},
   "outputs": [
    {
     "name": "stdout",
     "output_type": "stream",
     "text": [
      "Субботкин Смирнова Кац\n"
     ]
    }
   ],
   "source": [
    "# список олтличников\n",
    "def Artek(s,n):\n",
    "    listPupils = list(map(lambda obj: obj.split()[::-1], s.split(',')))\n",
    "    sortedListPupils = sorted(listPupils, reverse=True)\n",
    "    return [i[1] for i in sortedListPupils[:n]]\n",
    "\n",
    "strPupils = \"Сидоров 2, Смирнова 5, Самойкин 4, Емельянов 2, Кац 5, Вдовиченко 5, Северин 4, Субботкин 5\"\n",
    "n = 3\n",
    "print(*Artek(strPupils, n))"
   ]
  },
  {
   "cell_type": "code",
   "execution_count": 77,
   "metadata": {},
   "outputs": [
    {
     "data": {
      "text/plain": [
       "'Надежный пароль'"
      ]
     },
     "execution_count": 77,
     "metadata": {},
     "output_type": "execute_result"
    }
   ],
   "source": [
    "# пароль\n",
    "specSymbols = list(\"@#$%&*().,-_+\")\n",
    "def password_level(pas):\n",
    "    hasNumber = any(char.isdigit() for char in pas)\n",
    "    hasUp = pas.lower() != pas\n",
    "    hasLow = pas.upper() != pas\n",
    "    hasUpLow = hasUp and hasLow\n",
    "    hasSpecial = any(char in specSymbols for char in pas)\n",
    "    hasLen = len(pas)>7\n",
    "    if not hasLen:\n",
    "        return \"Недопустимый пароль\"\n",
    "    elif sum([hasUp, hasLow, hasNumber])<=1:\n",
    "        return \"Ненадежный пароль\"\n",
    "    elif sum([hasUp, hasLow, hasNumber])==2:\n",
    "        return \"Слабый пароль\"\n",
    "    elif sum([hasUp, hasLow, hasNumber])==3 and not hasSpecial:\n",
    "        return \"Средний пароль\"\n",
    "    else:\n",
    "        return \"Надежный пароль\"\n",
    "\n",
    "pas = 'Abcdwfsdaf_123'\n",
    "password_level(pas)"
   ]
  }
 ],
 "metadata": {
  "kernelspec": {
   "display_name": "venv",
   "language": "python",
   "name": "python3"
  },
  "language_info": {
   "codemirror_mode": {
    "name": "ipython",
    "version": 3
   },
   "file_extension": ".py",
   "mimetype": "text/x-python",
   "name": "python",
   "nbconvert_exporter": "python",
   "pygments_lexer": "ipython3",
   "version": "3.11.5"
  }
 },
 "nbformat": 4,
 "nbformat_minor": 2
}
